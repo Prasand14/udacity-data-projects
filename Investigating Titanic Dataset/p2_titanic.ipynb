{
 "cells": [
  {
   "cell_type": "markdown",
   "metadata": {},
   "source": [
    "# INTRODUCTION\n",
    "\n",
    "I have carried out my investigation on the Titanic Dataset.\n",
    "\n",
    "I was curious as to whether ones socio-economic status had a bearing on the liklihood of surviving the Titanic disaster. To understand this I first calculated the chances or probabilities, and used the concept of conditional probability to ascertain what the chances of survival of any random individual aboard the titanic were, given his/her socio-economic status.\n",
    "\n",
    "I then procceded to run a chi-squared test to examine the significance of my findings. \n",
    "\n",
    "Note, given the absence of direct information relating to socio-economic status, I had to use the Passenger Class (Pclass) as a proxy. "
   ]
  },
  {
   "cell_type": "markdown",
   "metadata": {},
   "source": [
    "#### FIRST STEP\n",
    "\n",
    "Importing relevant datasets and libraries."
   ]
  },
  {
   "cell_type": "code",
   "execution_count": 78,
   "metadata": {
    "collapsed": false
   },
   "outputs": [],
   "source": [
    "import numpy as np\n",
    "import pandas as pd\n",
    "import seaborn as sns\n",
    "import matplotlib.pyplot as plt\n",
    "%matplotlib inline\n",
    "\n",
    "titanic = pd.read_csv('titanic-data.csv')"
   ]
  },
  {
   "cell_type": "code",
   "execution_count": 79,
   "metadata": {
    "collapsed": false
   },
   "outputs": [
    {
     "data": {
      "text/html": [
       "<div>\n",
       "<table border=\"1\" class=\"dataframe\">\n",
       "  <thead>\n",
       "    <tr style=\"text-align: right;\">\n",
       "      <th></th>\n",
       "      <th>PassengerId</th>\n",
       "      <th>Survived</th>\n",
       "      <th>Pclass</th>\n",
       "      <th>Name</th>\n",
       "      <th>Sex</th>\n",
       "      <th>Age</th>\n",
       "      <th>SibSp</th>\n",
       "      <th>Parch</th>\n",
       "      <th>Ticket</th>\n",
       "      <th>Fare</th>\n",
       "      <th>Cabin</th>\n",
       "      <th>Embarked</th>\n",
       "    </tr>\n",
       "  </thead>\n",
       "  <tbody>\n",
       "    <tr>\n",
       "      <th>0</th>\n",
       "      <td>1</td>\n",
       "      <td>0</td>\n",
       "      <td>3</td>\n",
       "      <td>Braund, Mr. Owen Harris</td>\n",
       "      <td>male</td>\n",
       "      <td>22.0</td>\n",
       "      <td>1</td>\n",
       "      <td>0</td>\n",
       "      <td>A/5 21171</td>\n",
       "      <td>7.2500</td>\n",
       "      <td>NaN</td>\n",
       "      <td>S</td>\n",
       "    </tr>\n",
       "    <tr>\n",
       "      <th>1</th>\n",
       "      <td>2</td>\n",
       "      <td>1</td>\n",
       "      <td>1</td>\n",
       "      <td>Cumings, Mrs. John Bradley (Florence Briggs Th...</td>\n",
       "      <td>female</td>\n",
       "      <td>38.0</td>\n",
       "      <td>1</td>\n",
       "      <td>0</td>\n",
       "      <td>PC 17599</td>\n",
       "      <td>71.2833</td>\n",
       "      <td>C85</td>\n",
       "      <td>C</td>\n",
       "    </tr>\n",
       "    <tr>\n",
       "      <th>2</th>\n",
       "      <td>3</td>\n",
       "      <td>1</td>\n",
       "      <td>3</td>\n",
       "      <td>Heikkinen, Miss. Laina</td>\n",
       "      <td>female</td>\n",
       "      <td>26.0</td>\n",
       "      <td>0</td>\n",
       "      <td>0</td>\n",
       "      <td>STON/O2. 3101282</td>\n",
       "      <td>7.9250</td>\n",
       "      <td>NaN</td>\n",
       "      <td>S</td>\n",
       "    </tr>\n",
       "    <tr>\n",
       "      <th>3</th>\n",
       "      <td>4</td>\n",
       "      <td>1</td>\n",
       "      <td>1</td>\n",
       "      <td>Futrelle, Mrs. Jacques Heath (Lily May Peel)</td>\n",
       "      <td>female</td>\n",
       "      <td>35.0</td>\n",
       "      <td>1</td>\n",
       "      <td>0</td>\n",
       "      <td>113803</td>\n",
       "      <td>53.1000</td>\n",
       "      <td>C123</td>\n",
       "      <td>S</td>\n",
       "    </tr>\n",
       "    <tr>\n",
       "      <th>4</th>\n",
       "      <td>5</td>\n",
       "      <td>0</td>\n",
       "      <td>3</td>\n",
       "      <td>Allen, Mr. William Henry</td>\n",
       "      <td>male</td>\n",
       "      <td>35.0</td>\n",
       "      <td>0</td>\n",
       "      <td>0</td>\n",
       "      <td>373450</td>\n",
       "      <td>8.0500</td>\n",
       "      <td>NaN</td>\n",
       "      <td>S</td>\n",
       "    </tr>\n",
       "  </tbody>\n",
       "</table>\n",
       "</div>"
      ],
      "text/plain": [
       "   PassengerId  Survived  Pclass  \\\n",
       "0            1         0       3   \n",
       "1            2         1       1   \n",
       "2            3         1       3   \n",
       "3            4         1       1   \n",
       "4            5         0       3   \n",
       "\n",
       "                                                Name     Sex   Age  SibSp  \\\n",
       "0                            Braund, Mr. Owen Harris    male  22.0      1   \n",
       "1  Cumings, Mrs. John Bradley (Florence Briggs Th...  female  38.0      1   \n",
       "2                             Heikkinen, Miss. Laina  female  26.0      0   \n",
       "3       Futrelle, Mrs. Jacques Heath (Lily May Peel)  female  35.0      1   \n",
       "4                           Allen, Mr. William Henry    male  35.0      0   \n",
       "\n",
       "   Parch            Ticket     Fare Cabin Embarked  \n",
       "0      0         A/5 21171   7.2500   NaN        S  \n",
       "1      0          PC 17599  71.2833   C85        C  \n",
       "2      0  STON/O2. 3101282   7.9250   NaN        S  \n",
       "3      0            113803  53.1000  C123        S  \n",
       "4      0            373450   8.0500   NaN        S  "
      ]
     },
     "execution_count": 79,
     "metadata": {},
     "output_type": "execute_result"
    }
   ],
   "source": [
    "titanic.head()"
   ]
  },
  {
   "cell_type": "markdown",
   "metadata": {
    "collapsed": true
   },
   "source": [
    "### Demographics onboard the Titanic\n",
    "\n",
    "This section describes various aspects pertaining to the passengers on board the titanic. These aspects include the number of male/female passengers, division of passengers by the port of embarkment etc.\n",
    "\n"
   ]
  },
  {
   "cell_type": "code",
   "execution_count": 80,
   "metadata": {
    "collapsed": false,
    "scrolled": false
   },
   "outputs": [
    {
     "name": "stdout",
     "output_type": "stream",
     "text": [
      "Total number of passengers on board: 891\n",
      "\n",
      "Total number of female passengers on board: 314\n",
      "\n",
      "Total number of male passengers on board: 577\n",
      "\n",
      "\n"
     ]
    },
    {
     "data": {
      "text/plain": [
       "<matplotlib.text.Text at 0x10224730>"
      ]
     },
     "execution_count": 80,
     "metadata": {},
     "output_type": "execute_result"
    },
    {
     "data": {
      "image/png": "[encoded data removed]",
      "text/plain": [
       "<matplotlib.figure.Figure at 0xd9e8810>"
      ]
     },
     "metadata": {},
     "output_type": "display_data"
    }
   ],
   "source": [
    "print 'Total number of passengers on board: ' + str(titanic.groupby('PassengerId').count()['Name'].sum())\n",
    "print ''\n",
    "print 'Total number of female passengers on board: ' + str(titanic.groupby(['Sex'])['Sex'].count().loc['female'])\n",
    "print ''\n",
    "print 'Total number of male passengers on board: ' + str(titanic.groupby(['Sex'])['Sex'].count().loc['male'])\n",
    "print '\\n'\n",
    "\n",
    "\n",
    "gender = ['Female', 'Male']\n",
    "passenger_c = [314, 577]\n",
    "\n",
    "ind = np.arange(len(gender))\n",
    "\n",
    "plt.bar(ind, passenger_c)\n",
    "plt.xticks(ind + 0.4, gender)\n",
    "plt.xlabel('Sex')\n",
    "plt.ylabel('Number of Passengers')\n",
    "plt.title('Breakdown by Gender')"
   ]
  },
  {
   "cell_type": "code",
   "execution_count": 81,
   "metadata": {
    "collapsed": false
   },
   "outputs": [
    {
     "name": "stdout",
     "output_type": "stream",
     "text": [
      "Number of female passengers belonging to Class 1: 94\n",
      "\n",
      "Number of male passengers belonging to Class 1: 122\n",
      "\n",
      "Proprtion of females belonging to Class 1: 0.435185185185\n",
      "\n",
      "\n",
      "Number of female passengers belonging to Class 2: 76\n",
      "\n",
      "Number of male passengers belonging to Class 2: 108\n",
      "\n",
      "Proprtion of females belonging to Class 2: 0.413043478261\n",
      "\n",
      "\n",
      "Number of female passengers belonging to Class 3: 144\n",
      "\n",
      "Number of male passengers belonging to Class 3: 347\n",
      "\n",
      "Proprtion of females belonging to Class 3: 0.293279022403\n",
      "\n",
      "\n"
     ]
    }
   ],
   "source": [
    "for t in [1, 2, 3]:\n",
    "    a = titanic[titanic['Pclass'] == t]['Sex']\n",
    "\n",
    "        \n",
    "    print 'Number of female passengers belonging to Class ' + str(t) + ':', sum(a == 'female')\n",
    "    print ''\n",
    "    print 'Number of male passengers belonging to Class ' + str(t) + ':', sum(a == 'male')\n",
    "    print ''\n",
    "    print 'Proprtion of females belonging to Class ' + str(t) + ':', sum(a == 'female')/float(sum(a == 'female') + sum(a == 'male'))\n",
    "    print '\\n'\n"
   ]
  },
  {
   "cell_type": "markdown",
   "metadata": {},
   "source": [
    "About 43.5% of the Class 1 passengers were female, about 41.3% of the Class 2 passengers were female, whereas only 29.3% of Class 3 passengers were female.\n",
    "\n",
    "This might help explain why so many passengers belonging to Class 1 especially survived. There perhaps was a 'Women First' policy that was adopted during the Titanic evacuation. That let women escape death."
   ]
  },
  {
   "cell_type": "markdown",
   "metadata": {},
   "source": [
    "### Breakdown by Age\n",
    "\n",
    "The average age of passengers aboard the Titanic was 30 years. The oldest passenger onboard was 80 years old, and the youngest was about 5 months old. There were 139 passengers who were below 18 years of age, and 26 passengers who were above 60 years of age."
   ]
  },
  {
   "cell_type": "markdown",
   "metadata": {},
   "source": [
    "##### Wrangling\n",
    "\n",
    "There were missing values in the age column. To treat for this, I tried a couple of things: \n",
    "\n",
    "One (test), I calculated the average age of the passengers on whom the age data was available, and substituted the unavialable figures with this average.\n",
    "\n",
    "Two (test2), I dropped all the unavailable data from my dataset."
   ]
  },
  {
   "cell_type": "code",
   "execution_count": 82,
   "metadata": {
    "collapsed": false
   },
   "outputs": [
    {
     "data": {
      "text/plain": [
       "<matplotlib.text.Text at 0xd9e8f90>"
      ]
     },
     "execution_count": 82,
     "metadata": {},
     "output_type": "execute_result"
    },
    {
     "data": {
      "image/png": "[encoded data removed]",
      "text/plain": [
       "<matplotlib.figure.Figure at 0xd9f53b0>"
      ]
     },
     "metadata": {},
     "output_type": "display_data"
    }
   ],
   "source": [
    "titanic['Age'].hist()\n",
    "plt.title('Distribution of Ages')"
   ]
  },
  {
   "cell_type": "markdown",
   "metadata": {},
   "source": [
    "In the first case, I found that my method of imputing values for NAs affected my distribution, and this ought to have an adverese impact on any inferences and conclusions I might reach"
   ]
  },
  {
   "cell_type": "code",
   "execution_count": 83,
   "metadata": {
    "collapsed": false
   },
   "outputs": [
    {
     "data": {
      "text/plain": [
       "<matplotlib.text.Text at 0xd1f6dd0>"
      ]
     },
     "execution_count": 83,
     "metadata": {},
     "output_type": "execute_result"
    },
    {
     "data": {
      "image/png": "[encoded data removed]",
      "text/plain": [
       "<matplotlib.figure.Figure at 0xd3928b0>"
      ]
     },
     "metadata": {},
     "output_type": "display_data"
    }
   ],
   "source": [
    "test = titanic['Age'].fillna(round(titanic.loc[:, 'Age'].mean()))\n",
    "test.hist()\n",
    "plt.title('Distribution of Ages (NAs are substituted with mean age)')"
   ]
  },
  {
   "cell_type": "markdown",
   "metadata": {},
   "source": [
    "I adopted the second method of dropping NAs while operating on the Age variable, which did not alter the shape of my distribution"
   ]
  },
  {
   "cell_type": "code",
   "execution_count": 84,
   "metadata": {
    "collapsed": false
   },
   "outputs": [
    {
     "data": {
      "text/plain": [
       "<matplotlib.text.Text at 0x101de5b0>"
      ]
     },
     "execution_count": 84,
     "metadata": {},
     "output_type": "execute_result"
    },
    {
     "data": {
      "image/png": "[encoded data removed]",
      "text/plain": [
       "<matplotlib.figure.Figure at 0x101bc410>"
      ]
     },
     "metadata": {},
     "output_type": "display_data"
    }
   ],
   "source": [
    "test2 = titanic['Age'].dropna()\n",
    "test2.hist()\n",
    "plt.title('Distribution of Ages (NAs are dropped)')"
   ]
  },
  {
   "cell_type": "code",
   "execution_count": 85,
   "metadata": {
    "collapsed": false,
    "scrolled": true
   },
   "outputs": [
    {
     "name": "stdout",
     "output_type": "stream",
     "text": [
      "The average age on the Titanic: 30.0\n",
      "\n",
      "The average age of females on the Titanic: 28.0\n",
      "\n",
      "The average age of males on the Titanic: 31.0\n"
     ]
    }
   ],
   "source": [
    "#Average ages\n",
    "\n",
    "print 'The average age on the Titanic: ' + str(round(titanic.loc[:, 'Age'].mean()))\n",
    "print ''\n",
    "print 'The average age of females on the Titanic: ' + str(round(titanic.groupby('Sex').mean()['Age'].loc['female']))\n",
    "print ''\n",
    "print 'The average age of males on the Titanic: ' + str(round(titanic.groupby('Sex').mean()['Age'].loc['male']))"
   ]
  },
  {
   "cell_type": "code",
   "execution_count": 86,
   "metadata": {
    "collapsed": false
   },
   "outputs": [
    {
     "data": {
      "text/plain": [
       "<matplotlib.text.Text at 0x100d2e70>"
      ]
     },
     "execution_count": 86,
     "metadata": {},
     "output_type": "execute_result"
    },
    {
     "data": {
      "image/png": "[encoded data removed]",
      "text/plain": [
       "<matplotlib.figure.Figure at 0x102d9cb0>"
      ]
     },
     "metadata": {},
     "output_type": "display_data"
    }
   ],
   "source": [
    "sns.distplot(test2)\n",
    "plt.title('Distribution of Ages')"
   ]
  },
  {
   "cell_type": "code",
   "execution_count": 87,
   "metadata": {
    "collapsed": false
   },
   "outputs": [
    {
     "data": {
      "text/plain": [
       "<matplotlib.text.Text at 0x103fd9f0>"
      ]
     },
     "execution_count": 87,
     "metadata": {},
     "output_type": "execute_result"
    },
    {
     "data": {
      "image/png": "[encoded data removed]",
      "text/plain": [
       "<matplotlib.figure.Figure at 0x10384f50>"
      ]
     },
     "metadata": {},
     "output_type": "display_data"
    }
   ],
   "source": [
    "sns.violinplot(x = titanic['Age'])\n",
    "plt.title('Distribution of Ages')"
   ]
  },
  {
   "cell_type": "code",
   "execution_count": 88,
   "metadata": {
    "collapsed": false
   },
   "outputs": [
    {
     "name": "stdout",
     "output_type": "stream",
     "text": [
      "Total number of childern and elderly aboard: 165\n"
     ]
    }
   ],
   "source": [
    "print 'Total number of childern and elderly aboard:', sum((titanic['Age'].dropna() <= 18) | (titanic['Age'].dropna() >= 60))"
   ]
  },
  {
   "cell_type": "code",
   "execution_count": 89,
   "metadata": {
    "collapsed": false
   },
   "outputs": [
    {
     "name": "stdout",
     "output_type": "stream",
     "text": [
      "Eldest person aboard the Titanic: 80.0\n",
      "Youngest person aboard the Titanic 0.42\n",
      "\n",
      "Children aboard the Titanic: 139\n",
      "Seniors aboard the titanic: 26\n"
     ]
    }
   ],
   "source": [
    "#The oldest and youngest passengers onboard.\n",
    "print 'Eldest person aboard the Titanic:', titanic.loc[:, 'Age'].dropna().max()\n",
    "print 'Youngest person aboard the Titanic', titanic.loc[:, 'Age'].dropna().min()\n",
    "print ''\n",
    "\n",
    "print 'Children aboard the Titanic:', sum(titanic.loc[:, 'Age'].dropna() <= 18)\n",
    "print 'Seniors aboard the titanic:', sum(titanic.loc[:, 'Age'].dropna() >= 60)"
   ]
  },
  {
   "cell_type": "code",
   "execution_count": 90,
   "metadata": {
    "collapsed": false
   },
   "outputs": [
    {
     "name": "stdout",
     "output_type": "stream",
     "text": [
      "Number of children and adults in Class1: 33\n",
      "Proportion of children and adults in Class1: 0.037037037037\n",
      "\n",
      "\n",
      "Number of children and adults in Class2: 33\n",
      "Proportion of children and adults in Class2: 0.037037037037\n",
      "\n",
      "\n",
      "Number of children and adults in Class3: 99\n",
      "Proportion of children and adults in Class3: 0.111111111111\n",
      "\n",
      "\n"
     ]
    }
   ],
   "source": [
    "c = titanic[(titanic['Age'] <= 18) | (titanic['Age'] >= 60)]\n",
    "\n",
    "for t in [1, 2, 3]:\n",
    "    print 'Number of children and adults in Class' + str(t) + ':', c[c['Pclass'] == t]['PassengerId'].count()\n",
    "    print 'Proportion of children and adults in Class' + str(t) + ':', c[c['Pclass'] == t]['PassengerId'].count()/float(titanic['PassengerId'].count())\n",
    "    print '\\n'"
   ]
  },
  {
   "cell_type": "markdown",
   "metadata": {},
   "source": [
    "We observe that nearly 37% of passengers belonging to Class 1 and Class 2 were either children or elderly, whereas Class 3 had children or elderly as merely 11% of its demographic respectively. Perhaps, this demographic was given a preference when it came to evacuation. This could explain why passengers belonging to the higher classes - Class 1 and Class 2 - had better chances of survival."
   ]
  },
  {
   "cell_type": "markdown",
   "metadata": {},
   "source": [
    "### Passengers by Port of Embarkment\n",
    "\n",
    "There were three stops made by the Titanic to onboard passengers: Cherbourg, Queenstown and Southampton. \n",
    "\n",
    "About 3/4th (nearly 72%) of all passengers aboard the titanic go on at Southampton, followed by Cherbourg (nearly 19%) and Queenstown (nearly 9%)"
   ]
  },
  {
   "cell_type": "code",
   "execution_count": 91,
   "metadata": {
    "collapsed": false
   },
   "outputs": [
    {
     "name": "stdout",
     "output_type": "stream",
     "text": [
      "Passenger breakdown by port of embarkment: \n",
      "\n",
      "\n",
      "Passengers embarked at Cherbourg: 168\n",
      "Passengers embarked at Queenstown: 77\n",
      "Passengers embarked at Southampton: 644\n"
     ]
    },
    {
     "data": {
      "text/plain": [
       "<matplotlib.text.Text at 0x104cadb0>"
      ]
     },
     "execution_count": 91,
     "metadata": {},
     "output_type": "execute_result"
    },
    {
     "data": {
      "image/png": "[encoded data removed]",
      "text/plain": [
       "<matplotlib.figure.Figure at 0x1049f650>"
      ]
     },
     "metadata": {},
     "output_type": "display_data"
    }
   ],
   "source": [
    "print 'Passenger breakdown by port of embarkment: ' \n",
    "print '\\n'\n",
    "print 'Passengers embarked at Cherbourg: ' + str(titanic.groupby('Embarked')['PassengerId'].count()['C'])\n",
    "print 'Passengers embarked at Queenstown: ' + str(titanic.groupby('Embarked')['PassengerId'].count()['Q'])\n",
    "print 'Passengers embarked at Southampton: ' + str(titanic.groupby('Embarked')['PassengerId'].count()['S'])\n",
    "\n",
    "\n",
    "#Plotting the above\n",
    "ports = ['Cherbourg', 'Queenstown', 'Southampton']\n",
    "passenger_c = [168, 77, 644]\n",
    "\n",
    "ind = np.arange(len(ports))\n",
    "\n",
    "plt.bar(ind, passenger_c)\n",
    "plt.xticks(ind + 0.4, ports)\n",
    "plt.xlabel('Port of Embarkment')\n",
    "plt.ylabel('Number of Passengers')\n",
    "plt.title('Breakdown by Port of Embarkment')\n"
   ]
  },
  {
   "cell_type": "code",
   "execution_count": 92,
   "metadata": {
    "collapsed": false
   },
   "outputs": [
    {
     "name": "stdout",
     "output_type": "stream",
     "text": [
      "Passenger breakdown by class of passenger: \n",
      "\n",
      "\n",
      "Pasengers belonging to Class 1: 216\n",
      "Pasengers belonging to Class 2: 184\n",
      "Pasengers belonging to Class 3: 491\n"
     ]
    },
    {
     "data": {
      "text/plain": [
       "<matplotlib.text.Text at 0x10570a10>"
      ]
     },
     "execution_count": 92,
     "metadata": {},
     "output_type": "execute_result"
    },
    {
     "data": {
      "image/png": "[encoded data removed]",
      "text/plain": [
       "<matplotlib.figure.Figure at 0x104aa510>"
      ]
     },
     "metadata": {},
     "output_type": "display_data"
    }
   ],
   "source": [
    "print 'Passenger breakdown by class of passenger: ' \n",
    "print '\\n'\n",
    "print 'Pasengers belonging to Class 1: '+ str(titanic.groupby('Pclass').size()[1])\n",
    "print 'Pasengers belonging to Class 2: '+ str(titanic.groupby('Pclass').size()[2])\n",
    "print 'Pasengers belonging to Class 3: '+ str(titanic.groupby('Pclass').size()[3])\n",
    "\n",
    "status = ['Class 1', 'Class 2', 'Class 3']\n",
    "passenger_c = [216, 184, 491]\n",
    "\n",
    "ind = np.arange(len(status))\n",
    "\n",
    "plt.bar(ind, passenger_c)\n",
    "plt.xticks(ind + 0.4, status)\n",
    "plt.xlabel('Passenger Class')\n",
    "plt.ylabel('Number of Passengers')\n",
    "plt.title('Breakdown by Passenger Class')"
   ]
  },
  {
   "cell_type": "markdown",
   "metadata": {},
   "source": [
    "## Question: Given that a passenger survived, what was his/her socio-economic status?\n",
    "\n",
    "To answer this question I have attempted to calculate probabilites using the naive definition of probability:\n",
    "\n",
    "###### P(A) = # observations in A / # observations in the sample space.\n",
    "\n",
    "Given this definition, I calculated probabilites that a passenger:\n",
    "1. Survived [P(S)] or died [P(D)]; \n",
    "2. Belonged to the upper or class 1 [P(U)], middle or class 2 [P(M)], lower or class 3 [P(L)]\n",
    "3. Belonged to a particular class and survived [P(S intersection U), P(S intersection M), P(S intersection L)]\n",
    "\n",
    "I then calculated the conditional probability that a passenger belonged to a particular socio-economic class, given that the passenger survived via:\n",
    "\n",
    "###### P(U/M/L | S) = P(U/M/L intersection S) / P(S)\n",
    "       \n",
    "\n",
    "Note: The data on the passenger class have been used as a proxy for the socio-economic class.\n",
    "\n",
    "From the analysis below I arrived at the following conclusion:\n",
    "\n",
    "Given that a passenger survived, there is a:\n",
    "\n",
    "##### 1. 39.8 % chance that the survivor belonged to the high economic class or class1\n",
    "##### 2. 25.5 % chance that the survivor belonged to the high economic class or class1\n",
    "##### 3. 34.9 % chance that the survivor belonged to the high economic class or class1\n",
    "\n",
    "\n",
    "Conversely, I also observed that given the socio economic class:\n",
    "\n",
    "##### 1. There was a 63.2% chance that a class 1 passenger survived\n",
    "##### 2. There was a 47.3% chance that a class 1 passenger survived\n",
    "##### 3. There was a 24.3% chance that a class 1 passenger survived\n",
    "\n",
    "\n",
    "This means that you were thrice as likely to survive the Titanic if you belonged to class 1 as opposed to class 2"
   ]
  },
  {
   "cell_type": "code",
   "execution_count": 93,
   "metadata": {
    "collapsed": true
   },
   "outputs": [],
   "source": [
    "#Defining a function to calculate and return the proability\n",
    "\n",
    "def find_p(value):\n",
    "    return round(value / 891.0, 3)"
   ]
  },
  {
   "cell_type": "code",
   "execution_count": 94,
   "metadata": {
    "collapsed": false
   },
   "outputs": [
    {
     "name": "stdout",
     "output_type": "stream",
     "text": [
      "\n",
      "\n",
      "The probability that a passenger survived: 0.384\n",
      "The probability that a passenger survived: 0.616\n"
     ]
    }
   ],
   "source": [
    "#Calculating the probability that any given passenger survived/died.\n",
    "\n",
    "by_survival = titanic.groupby('Survived').size()\n",
    "\n",
    "p_survived = find_p(by_survival[1])\n",
    "p_died = find_p(by_survival[0])\n",
    "\n",
    "print '\\n'\n",
    "print 'The probability that a passenger survived: ' + str(p_survived)\n",
    "print 'The probability that a passenger survived: ' + str(p_died)"
   ]
  },
  {
   "cell_type": "code",
   "execution_count": 95,
   "metadata": {
    "collapsed": false
   },
   "outputs": [],
   "source": [
    "#Finding the probability that a passenger belongs to a certain economic class.\n",
    "\n",
    "by_class = titanic.groupby('Pclass').size()\n",
    "\n",
    "p_class1 = find_p(by_class[1])\n",
    "p_class2 = find_p(by_class[2]) \n",
    "p_class3 = find_p(by_class[3])\n"
   ]
  },
  {
   "cell_type": "code",
   "execution_count": 96,
   "metadata": {
    "collapsed": false
   },
   "outputs": [],
   "source": [
    "#Defining a procedure to return the number of survivors from each passenger class.\n",
    "\n",
    "def intersection_count(passenger_class):\n",
    "    intersection = titanic[titanic['Pclass']==passenger_class]['Survived'].sum()\n",
    "    return intersection"
   ]
  },
  {
   "cell_type": "code",
   "execution_count": 97,
   "metadata": {
    "collapsed": false
   },
   "outputs": [
    {
     "name": "stdout",
     "output_type": "stream",
     "text": [
      "The number of survivors from passenger class 1: 136\n",
      "The number of survivors from passenger class 2: 87\n",
      "The number of survivors from passenger class 3: 119\n"
     ]
    }
   ],
   "source": [
    "#Calculating the number of survivors from each passenger class.u\n",
    "\n",
    "for passenger_class in [1, 2, 3]:\n",
    "    print 'The number of survivors from passenger class {}: '.format(passenger_class) + str(intersection_count(passenger_class))\n",
    "\n",
    "#Claculating the probability \n",
    "p_class1_intersection_live = find_p(intersection_count(1))\n",
    "p_class2_intersection_live = find_p(intersection_count(2))\n",
    "p_class3_intersection_live = find_p(intersection_count(3))\n"
   ]
  },
  {
   "cell_type": "code",
   "execution_count": 98,
   "metadata": {
    "collapsed": false
   },
   "outputs": [
    {
     "name": "stdout",
     "output_type": "stream",
     "text": [
      "Probability that the survivor belongs to class 1: 0.398\n",
      "Probability that the survivor belongs to class 2: 0.255\n",
      "Probability that the survivor belongs to class 3: 0.349\n"
     ]
    }
   ],
   "source": [
    "#Conditional probability: Class given survivor\n",
    "\n",
    "p_class1_given_survival = p_class1_intersection_live / p_survived\n",
    "print 'Probability that the survivor belongs to class 1: ' + str(round(p_class1_given_survival, 3))\n",
    "\n",
    "p_class2_given_survival = p_class2_intersection_live / p_survived\n",
    "print 'Probability that the survivor belongs to class 2: ' + str(round(p_class2_given_survival, 3))\n",
    "\n",
    "p_class3_given_survival = p_class3_intersection_live / p_survived\n",
    "print 'Probability that the survivor belongs to class 3: ' + str(round(p_class3_given_survival, 3))\n",
    "\n",
    "\n"
   ]
  },
  {
   "cell_type": "code",
   "execution_count": 99,
   "metadata": {
    "collapsed": false
   },
   "outputs": [
    {
     "name": "stdout",
     "output_type": "stream",
     "text": [
      "Prabability that a Class 1 pasenger survives: 0.632\n",
      "Prabability that a Class 2 pasenger survives: 0.473\n",
      "Prabability that a Class 3 pasenger survives: 0.243\n"
     ]
    }
   ],
   "source": [
    "#Conditional probability: Survival given class\n",
    "\n",
    "p_s_c1 = p_class1_intersection_live / p_class1\n",
    "print 'Prabability that a Class 1 pasenger survives: ' + str(round(p_s_c1, 3))\n",
    "\n",
    "p_s_c2 = p_class2_intersection_live / p_class2\n",
    "print 'Prabability that a Class 2 pasenger survives: ' + str(round(p_s_c2, 3))\n",
    "\n",
    "p_s_c3 = p_class3_intersection_live / p_class3\n",
    "print 'Prabability that a Class 3 pasenger survives: ' + str(round(p_s_c3, 3))"
   ]
  },
  {
   "cell_type": "markdown",
   "metadata": {},
   "source": [
    "## Question: Did the socio-economic class have a statisitcally significant impact in determining whether a passenger lived or died?\n",
    "\n",
    "To answer the above question, I look at the data on the passenger class and survival. We then administer a chi-squared test for independence to see whether the socio-economic status did have a bearing on the chances of survival, or whether the two variables were independent.\n",
    "\n",
    "It is prudent to administer a chi-squared test because we are dealing with categorical variables.\n",
    "\n",
    "We begin by hypothesizing:\n",
    "\n",
    "###### H0: The two variables - passenger class and survival - are independent.\n",
    "###### H1: The two variables - passenger class and survival - are not independent.\n",
    "\n",
    "We will be testing the hypothesis for a significance level (alpha) of 0.05.\n",
    "\n",
    "To continue, we will have to examine our observed and expected values.\n",
    "\n",
    "We calculate the expected values like so:\n",
    "\n",
    "###### Expected = (Row Total * Column Total) / Sample Size\n",
    "\n",
    "In our case, the observed values and the expected values are as follows:"
   ]
  },
  {
   "cell_type": "code",
   "execution_count": 100,
   "metadata": {
    "collapsed": false
   },
   "outputs": [
    {
     "name": "stdout",
     "output_type": "stream",
     "text": [
      "Observed Values:\n",
      "         1   2    3\n",
      "Alive  136  87  119\n",
      "Dead    80  97  372\n",
      "\n",
      "\n",
      "Expected Values:\n",
      "            1       2       3\n",
      "Alive   82.91   70.63  188.46\n",
      "Dead   133.09  113.37  302.54\n"
     ]
    }
   ],
   "source": [
    "observed_values = {'1': pd.Series([136, 80], index = ['Alive', 'Dead']),\n",
    "                  '2': pd.Series([87, 97], index = ['Alive', 'Dead']),\n",
    "                  '3': pd.Series([119, 372], index = ['Alive', 'Dead']),}\n",
    "\n",
    "expected_observations = {'1': pd.Series([82.91, 133.09], index = ['Alive', 'Dead']),\n",
    "                        '2': pd.Series([70.63, 113.37], index = ['Alive', 'Dead']),\n",
    "                        '3': pd.Series([188.46, 302.54], index = ['Alive', 'Dead']),}\n",
    "\n",
    "observed_values = pd.DataFrame(observed_values)\n",
    "expected_observations = pd.DataFrame(expected_observations)\n",
    "\n",
    "print 'Observed Values:'\n",
    "print observed_values.head()\n",
    "print '\\n'\n",
    "\n",
    "print 'Expected Values:'\n",
    "print expected_observations.head()\n"
   ]
  },
  {
   "cell_type": "code",
   "execution_count": 101,
   "metadata": {
    "collapsed": false
   },
   "outputs": [
    {
     "data": {
      "text/plain": [
       "<matplotlib.text.Text at 0x1062d710>"
      ]
     },
     "execution_count": 101,
     "metadata": {},
     "output_type": "execute_result"
    },
    {
     "data": {
      "image/png": "[encoded data removed]",
      "text/plain": [
       "<matplotlib.figure.Figure at 0x104890f0>"
      ]
     },
     "metadata": {},
     "output_type": "display_data"
    }
   ],
   "source": [
    "sns.heatmap(observed_values)\n",
    "plt.title('Dead or Alive by Passenger Class')"
   ]
  },
  {
   "cell_type": "markdown",
   "metadata": {},
   "source": [
    "We calculate the Chi-Squared as follows:\n",
    "\n",
    "##### x = (Observed Value - Expected Value)^2 / (Expected Value)\n",
    "\n",
    "##### Chi-Squared = the sum of x over all observations. "
   ]
  },
  {
   "cell_type": "code",
   "execution_count": 102,
   "metadata": {
    "collapsed": false
   },
   "outputs": [
    {
     "name": "stdout",
     "output_type": "stream",
     "text": [
      "               1         2          3\n",
      "Alive  33.995273  3.794095  25.600613\n",
      "Dead   21.177760  2.363737  15.947285\n",
      "\n",
      "\n",
      "102.878763628\n"
     ]
    }
   ],
   "source": [
    "x = (observed_values - expected_observations)**2 / expected_observations\n",
    "print x\n",
    "print '\\n'\n",
    "\n",
    "chi_squared = x.sum().sum()\n",
    "\n",
    "print chi_squared\n"
   ]
  },
  {
   "cell_type": "markdown",
   "metadata": {},
   "source": [
    "Next we calculate the degrees of freedom (df). We calculate this like so:\n",
    "\n",
    "##### df = (number of rows - 1) * (number of columns - 1)\n",
    "\n",
    "In our case the degrees of freedom:\n",
    "\n",
    "df = (2 - 1) * (3 - 1) = 2\n",
    "\n",
    "The p-value for a Chi-Squared of 102.878 with 2 degrees of freedom is less than 0.0001. Since p < 0.05 (alpha), we can REJECT THE NULL HYPOTHESIS and concluded that the two variables are not independent. \n",
    "\n",
    "And that the socio-economic class of passenger did have an impact on their survival.\n"
   ]
  },
  {
   "cell_type": "markdown",
   "metadata": {},
   "source": [
    "## CONCLUSIONS\n",
    "\n",
    "In my analysis, I found that passengers belonging to a higher class had a higher chance of surviving the titanic. I used conditional probability to establish this.\n",
    "\n",
    "On digging deeper, I found that the higher classes - Class 1 and Class 2 - had a higher proportion of women, children and elderly amongst its populace. This partly can explain the better chances of survival in the demographic. \n",
    "\n",
    "These findings are not conclusive or 100% accurate. I used the passenger class as a proxy for socio-economic status, and had to drop missing values whenever I was opearting on the Age variable. This dataset atleast in part depended on information gathered from the survivors and may have made it prone to Survivorship Bias. It is prudent to take note of these caveats.\n",
    "\n",
    "However, I ran a chi-square test for independence to round off my analysis, and concluded that the variables socio-economic class and survival are not independent. That, the socio-economic status of an individual did have some bearing on her chances of survival.\n"
   ]
  },
  {
   "cell_type": "markdown",
   "metadata": {},
   "source": [
    "\n",
    "\n",
    "### REFERENCES\n",
    "\n",
    "\n",
    "1. Documentation: Matplotlib, NumPy, Pandas\n",
    "2. http://graphpad.com/quickcalcs/pValue2/\n",
    "3. http://inspire.stat.ucla.edu/unit_13/index.php\n",
    "4. Udacity: Inferential Statistics\n",
    "5. https://onlinecourses.science.psu.edu/stat500/node/56\n",
    "6. https://www.wikiwand.com/en/Survivorship_bias"
   ]
  }
 ],
 "metadata": {
  "kernelspec": {
   "display_name": "Python 2",
   "language": "python",
   "name": "python2"
  },
  "language_info": {
   "codemirror_mode": {
    "name": "ipython",
    "version": 2
   },
   "file_extension": ".py",
   "mimetype": "text/x-python",
   "name": "python",
   "nbconvert_exporter": "python",
   "pygments_lexer": "ipython2",
   "version": "2.7.12"
  }
 },
 "nbformat": 4,
 "nbformat_minor": 0
}
